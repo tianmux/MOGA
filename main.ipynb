{
 "cells": [
  {
   "cell_type": "code",
   "execution_count": 2,
   "metadata": {},
   "outputs": [],
   "source": [
    "import numpy as np\n",
    "import matplotlib.pyplot as plt\n",
    "import Run_Sims\n",
    "import Read_Result\n",
    "import pandas as pd"
   ]
  },
  {
   "cell_type": "code",
   "execution_count": 2,
   "metadata": {},
   "outputs": [],
   "source": [
    "work_dir = './Astra_Test_Input/'\n",
    "path_gen = work_dir + 'inputs/'\n",
    "fn_gen = 'gen_5_1_nC.in'\n",
    "\n",
    "path_Astra = work_dir \n",
    "project_name = 'run'\n",
    "fn_Astra = project_name+'.in'\n",
    "\n",
    "flag_sim = False\n",
    "flag_read_result = True"
   ]
  },
  {
   "cell_type": "code",
   "execution_count": 3,
   "metadata": {},
   "outputs": [],
   "source": [
    "if flag_sim == True:\n",
    "    Run_Sims.Run_full(path_gen,fn_gen,path_Astra,fn_Astra)"
   ]
  },
  {
   "cell_type": "code",
   "execution_count": 4,
   "metadata": {},
   "outputs": [
    {
     "name": "stdout",
     "output_type": "stream",
     "text": [
      "1.0015E+01\n",
      "File opened successfully.\n",
      "2.1296E+00\n",
      "File opened successfully.\n"
     ]
    }
   ],
   "source": [
    "if flag_read_result == True:\n",
    "    tmp1 = Read_Result.Read_output(project_name,'Xemit',path_Astra)\n",
    "    tmp2 = Read_Result.Read_output(project_name,'Zemit',path_Astra)"
   ]
  },
  {
   "cell_type": "code",
   "execution_count": 5,
   "metadata": {},
   "outputs": [
    {
     "name": "stdout",
     "output_type": "stream",
     "text": [
      "1.0015E+01\n"
     ]
    }
   ],
   "source": [
    "print(tmp1)"
   ]
  },
  {
   "cell_type": "code",
   "execution_count": 16,
   "metadata": {},
   "outputs": [],
   "source": [
    "df = pd.DataFrame(np.array([[1,2,3,4,5],[11,22,33,44,55]]).T,columns=['a','b'])"
   ]
  },
  {
   "cell_type": "code",
   "execution_count": 23,
   "metadata": {},
   "outputs": [
    {
     "data": {
      "text/plain": [
       "11"
      ]
     },
     "execution_count": 23,
     "metadata": {},
     "output_type": "execute_result"
    }
   ],
   "source": [
    "df.iloc[0][df.columns[1]]"
   ]
  },
  {
   "cell_type": "code",
   "execution_count": null,
   "metadata": {},
   "outputs": [],
   "source": []
  }
 ],
 "metadata": {
  "kernelspec": {
   "display_name": "py_vir_env_1",
   "language": "python",
   "name": "python3"
  },
  "language_info": {
   "codemirror_mode": {
    "name": "ipython",
    "version": 3
   },
   "file_extension": ".py",
   "mimetype": "text/x-python",
   "name": "python",
   "nbconvert_exporter": "python",
   "pygments_lexer": "ipython3",
   "version": "3.10.12"
  }
 },
 "nbformat": 4,
 "nbformat_minor": 2
}
