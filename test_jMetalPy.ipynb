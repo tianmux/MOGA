{
 "cells": [
  {
   "cell_type": "code",
   "execution_count": 16,
   "metadata": {},
   "outputs": [
    {
     "name": "stderr",
     "output_type": "stream",
     "text": [
      "[2024-01-10 08:44:17,881] [jmetal.core.algorithm] [DEBUG] Creating initial set of solutions...\n",
      "[2024-01-10 08:44:17,899] [jmetal.core.algorithm] [DEBUG] Evaluating solutions...\n",
      "[2024-01-10 08:44:17,902] [jmetal.core.algorithm] [DEBUG] Initializing progress...\n",
      "[2024-01-10 08:44:17,905] [jmetal.core.algorithm] [DEBUG] Running main loop until termination criteria is met\n",
      "[2024-01-10 08:45:01,516] [jmetal.core.algorithm] [DEBUG] Finished!\n"
     ]
    }
   ],
   "source": [
    "from jmetal.algorithm.multiobjective import NSGAII\n",
    "from jmetal.operator import SBXCrossover, PolynomialMutation\n",
    "from jmetal.problem import ZDT1\n",
    "from jmetal.util.termination_criterion import StoppingByEvaluations\n",
    "\n",
    "problem = ZDT1()\n",
    "\n",
    "algorithm = NSGAII(\n",
    "    problem=problem,\n",
    "    population_size=200,\n",
    "    offspring_population_size=10,\n",
    "    mutation=PolynomialMutation(probability=1.0/problem.number_of_variables(), distribution_index=20),\n",
    "    crossover=SBXCrossover(probability=1.0, distribution_index=20),\n",
    "    termination_criterion=StoppingByEvaluations(max_evaluations=25000)\n",
    ")\n",
    "\n",
    "algorithm.run()"
   ]
  },
  {
   "cell_type": "code",
   "execution_count": 17,
   "metadata": {},
   "outputs": [
    {
     "name": "stderr",
     "output_type": "stream",
     "text": [
      "[2024-01-10 08:45:01,545] [jmetal.util.solution] [INFO] Output file (function values): FUN.NSGAII.ZDT1\n",
      "[2024-01-10 08:45:01,548] [jmetal.util.solution] [INFO] Output file (variables): VAR.NSGAII.ZDT1\n"
     ]
    }
   ],
   "source": [
    "from jmetal.util.solution import get_non_dominated_solutions, print_function_values_to_file, print_variables_to_file\n",
    "\n",
    "front = get_non_dominated_solutions(algorithm.get_result())\n",
    "\n",
    "# save to files\n",
    "print_function_values_to_file(front, 'FUN.NSGAII.ZDT1')\n",
    "print_variables_to_file(front, 'VAR.NSGAII.ZDT1')"
   ]
  },
  {
   "cell_type": "code",
   "execution_count": 18,
   "metadata": {},
   "outputs": [
    {
     "name": "stderr",
     "output_type": "stream",
     "text": [
      "[2024-01-10 08:45:03,259] [jmetal.lab.visualization.plotting] [INFO] Figure {_filename} saved to file\n"
     ]
    }
   ],
   "source": [
    "from jmetal.lab.visualization import Plot\n",
    "\n",
    "plot_front = Plot(title='Pareto front approximation', axis_labels=['x', 'y'])\n",
    "plot_front.plot(front, label='NSGAII-ZDT1', filename='NSGAII-ZDT1', format='png')"
   ]
  },
  {
   "cell_type": "code",
   "execution_count": null,
   "metadata": {},
   "outputs": [],
   "source": []
  }
 ],
 "metadata": {
  "kernelspec": {
   "display_name": "py_vir_env_1",
   "language": "python",
   "name": "python3"
  },
  "language_info": {
   "codemirror_mode": {
    "name": "ipython",
    "version": 3
   },
   "file_extension": ".py",
   "mimetype": "text/x-python",
   "name": "python",
   "nbconvert_exporter": "python",
   "pygments_lexer": "ipython3",
   "version": "3.10.12"
  }
 },
 "nbformat": 4,
 "nbformat_minor": 2
}
