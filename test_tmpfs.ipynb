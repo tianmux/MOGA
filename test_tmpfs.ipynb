{
 "cells": [
  {
   "cell_type": "code",
   "execution_count": 15,
   "metadata": {},
   "outputs": [],
   "source": [
    "import subprocess\n",
    "import io\n",
    "import os\n",
    "import numpy as np\n",
    "import time\n"
   ]
  },
  {
   "cell_type": "code",
   "execution_count": 16,
   "metadata": {},
   "outputs": [],
   "source": [
    "# read the pass code from the file\n",
    "passcode = \"\"\n",
    "\n",
    "with open(\"passcode.txt\", \"r\") as f:\n",
    "    passcode = f.read()\n",
    "    f.close()\n"
   ]
  },
  {
   "cell_type": "code",
   "execution_count": 17,
   "metadata": {},
   "outputs": [
    {
     "name": "stderr",
     "output_type": "stream",
     "text": [
      "[sudo] password for txin: "
     ]
    },
    {
     "name": "stderr",
     "output_type": "stream",
     "text": [
      "[sudo] password for txin: umount: ./myTmpfs: not mounted.\n"
     ]
    }
   ],
   "source": [
    "# unmout the tmpfs\n",
    "while not os.system('echo '+passcode+' | sudo -S umount ./myTmpfs'):\n",
    "    pass"
   ]
  },
  {
   "cell_type": "code",
   "execution_count": 18,
   "metadata": {},
   "outputs": [
    {
     "name": "stderr",
     "output_type": "stream",
     "text": [
      "mkdir: cannot create directory ‘./myTmpfs’: File exists\n",
      "[sudo] password for txin: "
     ]
    },
    {
     "name": "stdout",
     "output_type": "stream",
     "text": [
      "b''\n"
     ]
    },
    {
     "name": "stderr",
     "output_type": "stream",
     "text": [
      "4096+0 records in\n",
      "4096+0 records out\n",
      "4294967296 bytes (4.3 GB, 4.0 GiB) copied, 1.06904 s, 4.0 GB/s\n"
     ]
    }
   ],
   "source": [
    "# Write a file in the tmpfs directory\n",
    "result = subprocess.run(['mkdir', './myTmpfs'], stdout=subprocess.PIPE)\n",
    "os.system('echo '+passcode +'| sudo -S mount -t tmpfs -o size=10G tmpfs ./myTmpfs')\n",
    "\n",
    "# Test the io speed of the tmpfs\n",
    "result = subprocess.run(['dd', 'if=/dev/zero', 'of=./myTmpfs/testin', 'bs=1M', 'count=4096'], stdout=subprocess.PIPE)\n",
    "print(result.stdout)"
   ]
  },
  {
   "cell_type": "code",
   "execution_count": 19,
   "metadata": {},
   "outputs": [
    {
     "name": "stderr",
     "output_type": "stream",
     "text": [
      "4096+0 records in\n",
      "4096+0 records out\n",
      "4294967296 bytes (4.3 GB, 4.0 GiB) copied, 1.64616 s, 2.6 GB/s\n"
     ]
    },
    {
     "name": "stdout",
     "output_type": "stream",
     "text": [
      "b''\n",
      "b''\n"
     ]
    },
    {
     "name": "stderr",
     "output_type": "stream",
     "text": [
      "4096+0 records in\n",
      "4096+0 records out\n",
      "4294967296 bytes (4.3 GB, 4.0 GiB) copied, 7.80268 s, 550 MB/s\n"
     ]
    }
   ],
   "source": [
    "# Run your subprocess command\n",
    "#result = subprocess.run(['mkdir', './myTmpfs'], stdout=subprocess.PIPE)\n",
    "#os.system('echo '+passcode +'| sudo -S mount -t tmpfs -o size=10G tmpfs ./myTmpfs')\n",
    "\n",
    "# Test the io speed of the tmpfs\n",
    "result = subprocess.run(['dd', 'if=./myTmpfs/testin', 'of=./myTmpfs/testout', 'bs=1M', 'count=4096'], stdout=subprocess.PIPE)\n",
    "print(result.stdout)\n",
    "\n",
    "# Test the io speed of real hard drive\n",
    "result = subprocess.run(['dd', 'if=./myTmpfs/testin', 'of=./testout', 'bs=1M', 'count=4096'], stdout=subprocess.PIPE)\n",
    "print(result.stdout)\n",
    "\n",
    "# unmout the tmpfs\n",
    "# os.system('echo '+passcode+' | sudo -S umount ./myTmpfs')\n"
   ]
  },
  {
   "cell_type": "code",
   "execution_count": 20,
   "metadata": {},
   "outputs": [
    {
     "name": "stdout",
     "output_type": "stream",
     "text": [
      "Writing 104857600 bytes to ./myTmpfs/test_file\n",
      "Write time for 104857600 bytes: 0.04070234298706055 seconds\n",
      "Write speed for 104857600 bytes: 2.399278342061177 GB/s\n",
      "Read time for 104857600 bytes: 0.10785841941833496 seconds\n",
      "Read speed for 104857600 bytes: 0.9054114692821034 GB/s\n",
      "Writing 104857600 bytes to ./test_file\n",
      "Write time for 104857600 bytes: 0.15537524223327637 seconds\n",
      "Write speed for 104857600 bytes: 0.6285187305026462 GB/s\n",
      "Read time for 104857600 bytes: 0.09858059883117676 seconds\n",
      "Read speed for 104857600 bytes: 0.9906234204079066 GB/s\n"
     ]
    }
   ],
   "source": [
    "def write_test(file_path, data_size):\n",
    "    # write a binary file with 'data_size' bytes\n",
    "    data = os.urandom(data_size)\n",
    "    print(f'Writing {data_size} bytes to {file_path}')\n",
    "    start_time = time.time()\n",
    "    with open(file_path, 'wb') as file:\n",
    "        # write the binaary file\n",
    "        file.write(data)\n",
    "        file.close()\n",
    "    end_time = time.time()\n",
    "    return end_time - start_time\n",
    "\n",
    "def read_test(file_path):\n",
    "    start_time = time.time()\n",
    "    with open(file_path, 'rb') as file:\n",
    "        data = file.read()\n",
    "        file.close()\n",
    "    end_time = time.time()\n",
    "    return end_time - start_time\n",
    "\n",
    "# Path to the file in tmpfs\n",
    "\n",
    "file_path_tmpfs = './myTmpfs/test_file'\n",
    "\n",
    "file_path_ssd = './test_file'\n",
    "#file_path_memory = './myTmpfs/test_file'\n",
    "data_size = 100 * 1024 * 1024\n",
    "\n",
    "# Perform the write test\n",
    "write_time = write_test(file_path_tmpfs, data_size)\n",
    "print(f'Write time for {data_size} bytes: {write_time} seconds')\n",
    "print(f'Write speed for {data_size} bytes: {data_size / write_time / 1024 / 1024 / 1024} GB/s')\n",
    "# Perform the read test\n",
    "read_time = read_test(file_path_tmpfs)\n",
    "print(f'Read time for {data_size} bytes: {read_time} seconds')\n",
    "print(f'Read speed for {data_size} bytes: {data_size / read_time / 1024 / 1024 / 1024} GB/s')\n",
    "# Optionally, clean up by removing the test file\n",
    "# os.remove(file_path_tmpfs)\n",
    "\n",
    "# Perform the write test on SSD\n",
    "write_time = write_test(file_path_ssd, data_size)\n",
    "print(f'Write time for {data_size} bytes: {write_time} seconds')\n",
    "print(f'Write speed for {data_size} bytes: {data_size / write_time / 1024 / 1024 / 1024} GB/s')\n",
    "# Perform the read test\n",
    "read_time = read_test(file_path_ssd)\n",
    "print(f'Read time for {data_size} bytes: {read_time} seconds')\n",
    "print(f'Read speed for {data_size} bytes: {data_size / read_time / 1024 / 1024 / 1024} GB/s')\n",
    "\n"
   ]
  },
  {
   "cell_type": "code",
   "execution_count": 21,
   "metadata": {},
   "outputs": [
    {
     "name": "stdout",
     "output_type": "stream",
     "text": [
      "Memory write test for 30000x30000 array: 6.274712085723877 seconds\n",
      "Memory write speed for 30000x30000 array: 0.13358227528255323 GB/s\n",
      "Memory read test for 30000x30000 array: 0.42903923988342285 seconds\n",
      "Memory read speed for 30000x30000 array: 1.9536448866114928 GB/s\n"
     ]
    }
   ],
   "source": [
    "def memory_write_test(size):\n",
    "    # Create a large array with random data\n",
    "    data = np.random.rand(size, size)\n",
    "    start_time = time.time()\n",
    "    # Perform a write operation (e.g., copying the array)\n",
    "    new_data = np.copy(data)\n",
    "    end_time = time.time()\n",
    "    return end_time - start_time\n",
    "\n",
    "def memory_read_test(array):\n",
    "    start_time = time.time()\n",
    "    # Perform a read operation (e.g., summing the array)\n",
    "    total = np.sum(array)\n",
    "    end_time = time.time()\n",
    "    return end_time - start_time\n",
    "\n",
    "# Define the size of the array (e.g., 1000x1000 elements)\n",
    "array_size = 30000\n",
    "\n",
    "# Test memory write speed\n",
    "write_time = memory_write_test(array_size)\n",
    "print(f'Memory write test for {array_size}x{array_size} array: {write_time} seconds')\n",
    "print(f'Memory write speed for {array_size}x{array_size} array: {array_size * array_size / write_time / 1024 / 1024 / 1024} GB/s')\n",
    "# Create an array for the read test\n",
    "test_array = np.random.rand(array_size, array_size)\n",
    "\n",
    "# Test memory read speed\n",
    "read_time = memory_read_test(test_array)\n",
    "print(f'Memory read test for {array_size}x{array_size} array: {read_time} seconds')\n",
    "print(f'Memory read speed for {array_size}x{array_size} array: {array_size * array_size / read_time / 1024 / 1024 / 1024} GB/s')\n"
   ]
  },
  {
   "cell_type": "code",
   "execution_count": null,
   "metadata": {},
   "outputs": [],
   "source": [
    "# read the json file\n"
   ]
  }
 ],
 "metadata": {
  "kernelspec": {
   "display_name": "py_vir_env_1",
   "language": "python",
   "name": "python3"
  },
  "language_info": {
   "codemirror_mode": {
    "name": "ipython",
    "version": 3
   },
   "file_extension": ".py",
   "mimetype": "text/x-python",
   "name": "python",
   "nbconvert_exporter": "python",
   "pygments_lexer": "ipython3",
   "version": "3.10.12"
  }
 },
 "nbformat": 4,
 "nbformat_minor": 2
}
